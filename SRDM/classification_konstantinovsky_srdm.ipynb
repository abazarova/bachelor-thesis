{
 "cells": [
  {
   "cell_type": "code",
   "execution_count": 87,
   "id": "79b611dd",
   "metadata": {},
   "outputs": [],
   "source": [
    "from matplotlib import image\n",
    "from matplotlib import pyplot as plt"
   ]
  },
  {
   "cell_type": "code",
   "execution_count": 88,
   "id": "7b5d80d8",
   "metadata": {},
   "outputs": [],
   "source": [
    "import os\n",
    "\n",
    "import matplotlib.pyplot as plt\n",
    "from matplotlib.colors import ListedColormap, BoundaryNorm\n",
    "import numpy as np\n",
    "import xarray as xr\n",
    "import rioxarray as rxr\n",
    "import earthpy as et\n",
    "import earthpy.plot as ep"
   ]
  },
  {
   "cell_type": "code",
   "execution_count": 89,
   "id": "bc79e89f",
   "metadata": {},
   "outputs": [],
   "source": [
    "from sklearn.model_selection import train_test_split\n",
    "from sklearn.discriminant_analysis import QuadraticDiscriminantAnalysis"
   ]
  },
  {
   "cell_type": "code",
   "execution_count": 90,
   "id": "c4c26726",
   "metadata": {},
   "outputs": [],
   "source": [
    "from sklearn.neighbors import KNeighborsClassifier\n"
   ]
  },
  {
   "cell_type": "code",
   "execution_count": 91,
   "id": "949b57bc",
   "metadata": {},
   "outputs": [],
   "source": [
    "from osgeo import gdal\n",
    "from osgeo import ogr\n",
    "from osgeo import osr"
   ]
  },
  {
   "cell_type": "code",
   "execution_count": 92,
   "id": "a457be63",
   "metadata": {},
   "outputs": [],
   "source": [
    "import random"
   ]
  },
  {
   "cell_type": "code",
   "execution_count": 93,
   "id": "6c7beb96",
   "metadata": {},
   "outputs": [],
   "source": [
    "from tqdm import tqdm"
   ]
  },
  {
   "cell_type": "code",
   "execution_count": 94,
   "id": "cd49964b",
   "metadata": {},
   "outputs": [],
   "source": [
    "import pandas as pd"
   ]
  },
  {
   "cell_type": "code",
   "execution_count": 95,
   "id": "fd4615dc",
   "metadata": {},
   "outputs": [],
   "source": [
    "from sklearn import model_selection, metrics"
   ]
  },
  {
   "cell_type": "code",
   "execution_count": 96,
   "id": "dc708bbd",
   "metadata": {},
   "outputs": [],
   "source": [
    "%run technical_functions/cv_and_reclassification_methods.ipynb"
   ]
  },
  {
   "cell_type": "code",
   "execution_count": 97,
   "id": "020b8b8e",
   "metadata": {},
   "outputs": [],
   "source": [
    "%run technical_functions/functions_geotransforms.ipynb"
   ]
  },
  {
   "cell_type": "markdown",
   "id": "51367ad6",
   "metadata": {},
   "source": [
    "Работаем с тензором признаков SRDM-матрицы."
   ]
  },
  {
   "cell_type": "code",
   "execution_count": 190,
   "id": "9ea652b9",
   "metadata": {},
   "outputs": [],
   "source": [
    "T = np.load('properties_55/SRDM_properties_55.npy')"
   ]
  },
  {
   "cell_type": "code",
   "execution_count": 191,
   "id": "b15d3ad0",
   "metadata": {},
   "outputs": [
    {
     "data": {
      "text/plain": [
       "(424, 448, 4)"
      ]
     },
     "execution_count": 191,
     "metadata": {},
     "output_type": "execute_result"
    }
   ],
   "source": [
    "T.shape"
   ]
  },
  {
   "cell_type": "code",
   "execution_count": 192,
   "id": "aaffbf04",
   "metadata": {},
   "outputs": [
    {
     "data": {
      "text/plain": [
       "<matplotlib.image.AxesImage at 0x1556aa6f308>"
      ]
     },
     "execution_count": 192,
     "metadata": {},
     "output_type": "execute_result"
    },
    {
     "data": {
      "image/png": "[encoded data removed]",
      "text/plain": [
       "<Figure size 432x288 with 1 Axes>"
      ]
     },
     "metadata": {
      "needs_background": "light"
     },
     "output_type": "display_data"
    }
   ],
   "source": [
    "plt.imshow(T[:, :, 0])"
   ]
  },
  {
   "cell_type": "code",
   "execution_count": 194,
   "id": "fc505a9b",
   "metadata": {},
   "outputs": [
    {
     "name": "stdout",
     "output_type": "stream",
     "text": [
      "6.766590248695204 0.0 0\n",
      "1.5552740390922208 0.0 1\n",
      "14.350941611479236 0.0 2\n",
      "3.0228828166378 0.0 3\n"
     ]
    }
   ],
   "source": [
    "for i in range(4):\n",
    "    print(np.max(T[:, :, i]), np.min(T[:, :, i]), i)\n"
   ]
  },
  {
   "cell_type": "markdown",
   "id": "7971653c",
   "metadata": {},
   "source": [
    "Сейчас будем загружать карту. "
   ]
  },
  {
   "cell_type": "code",
   "execution_count": 151,
   "id": "e8ac16fd",
   "metadata": {},
   "outputs": [
    {
     "name": "stderr",
     "output_type": "stream",
     "text": [
      "100%|███████████████████████████████████████████████████████████████████████████████| 424/424 [00:02<00:00, 149.24it/s]\n"
     ]
    }
   ],
   "source": [
    "map_konst = gdal.Open('Konstantinovsky_map.tif')\n",
    "konstantinovsky_mult = rxr.open_rasterio(\"geotiff/Konstantinovky_TestReg_mult.tif\")\n",
    "konstantinovsky_mult_gdal = gdal.Open(\"geotiff/Konstantinovky_TestReg_mult.tif\")\n",
    "map_konst_rasterio = rxr.open_rasterio(\"Konstantinovsky_map.tif\").squeeze()\n",
    "\n",
    "m_m, m_n = konstantinovsky_mult.shape[1], konstantinovsky_mult.shape[2]\n",
    "geo_trans_mult = konstantinovsky_mult_gdal.GetGeoTransform()\n",
    "proj_mult = konstantinovsky_mult_gdal.GetProjection()\n",
    "geo_trans_pan = map_konst.GetGeoTransform()\n",
    "proj_pan = map_konst.GetProjection()\n",
    "pixels_pan_list = []\n",
    "for i in range(1, m_m + 1):\n",
    "    a = []\n",
    "    for j in range(1, m_n + 1):\n",
    "        a.append((i, j))\n",
    "    a_coords = pix2coord(a, geo_trans_mult, proj_mult) #были пиксели в мультиканальном, стали координаты\n",
    "    a_pixels_in_pan = coord2pix(a_coords, geo_trans_pan, proj_pan)\n",
    "    pixels_pan_list.append(a_pixels_in_pan)\n",
    "    \n",
    "map_konst_ = np.zeros((T.shape[0], T.shape[1]))\n",
    "cnt_i = 0\n",
    "cnt_j = 0\n",
    "for line in tqdm(pixels_pan_list):\n",
    "    cnt_j = 0\n",
    "    for elem in line:\n",
    "        i, j = elem\n",
    "        i = int(i - 1)\n",
    "        j = int(j - 1)\n",
    "        map_konst_[cnt_i][cnt_j] = map_konst_rasterio.values[i][j]\n",
    "        cnt_j += 1\n",
    "    cnt_i += 1"
   ]
  },
  {
   "cell_type": "code",
   "execution_count": 152,
   "id": "fab792b9",
   "metadata": {},
   "outputs": [
    {
     "data": {
      "text/plain": [
       "<matplotlib.image.AxesImage at 0x1556a476508>"
      ]
     },
     "execution_count": 152,
     "metadata": {},
     "output_type": "execute_result"
    },
    {
     "data": {
      "image/png": "[encoded data removed]",
      "text/plain": [
       "<Figure size 432x288 with 1 Axes>"
      ]
     },
     "metadata": {
      "needs_background": "light"
     },
     "output_type": "display_data"
    }
   ],
   "source": [
    "plt.imshow(map_konst_)"
   ]
  },
  {
   "cell_type": "code",
   "execution_count": 153,
   "id": "0f34ad03",
   "metadata": {},
   "outputs": [
    {
     "data": {
      "text/plain": [
       "(424, 448)"
      ]
     },
     "execution_count": 153,
     "metadata": {},
     "output_type": "execute_result"
    }
   ],
   "source": [
    "map_konst_.shape"
   ]
  },
  {
   "cell_type": "code",
   "execution_count": 166,
   "id": "11c2b9ce",
   "metadata": {},
   "outputs": [],
   "source": [
    "import skimage.io\n",
    "import skimage.filters\n",
    "\n",
    "sigma = 7.0\n",
    "for i in range(4):\n",
    "    T[:, :, i] = skimage.filters.gaussian(\n",
    "        T[:, :, i], sigma=(sigma, sigma), truncate=3.5, multichannel=False)"
   ]
  },
  {
   "cell_type": "code",
   "execution_count": 167,
   "id": "7865912a",
   "metadata": {},
   "outputs": [],
   "source": [
    "X = []\n",
    "y = []\n",
    "cnt = np.zeros(5)\n",
    "for i in range(T.shape[0]):\n",
    "    for j in range(T.shape[1]):\n",
    "        if map_konst_[i][j] != 0 and cnt[int(map_konst_[i][j])- 1] < 9500:\n",
    "            X.append(T[i, j, :])\n",
    "            y.append(map_konst_[i, j])\n",
    "            cnt[int(map_konst_[i][j])- 1] += 1"
   ]
  },
  {
   "cell_type": "code",
   "execution_count": 168,
   "id": "abcc849f",
   "metadata": {},
   "outputs": [],
   "source": [
    "X = np.array(X)\n",
    "y = np.array(y)"
   ]
  },
  {
   "cell_type": "code",
   "execution_count": 185,
   "id": "3ae4b5fc",
   "metadata": {},
   "outputs": [],
   "source": [
    "arr = [1] * 9500 + [2] * 9500 + [3] * 9500 + [4] * 9500 + [5] * 9500\n",
    "X_train, X_test, y_train, y_test = train_test_split(X, y, test_size=0.001, random_state=0, stratify = arr)"
   ]
  },
  {
   "cell_type": "code",
   "execution_count": 186,
   "id": "6cf670bb",
   "metadata": {},
   "outputs": [],
   "source": [
    "qda = QuadraticDiscriminantAnalysis()"
   ]
  },
  {
   "cell_type": "code",
   "execution_count": 187,
   "id": "04fafe6a",
   "metadata": {},
   "outputs": [
    {
     "name": "stderr",
     "output_type": "stream",
     "text": [
      "C:\\Users\\abazarova\\miniconda3\\lib\\site-packages\\sklearn\\discriminant_analysis.py:808: UserWarning: Variables are collinear\n",
      "  warnings.warn(\"Variables are collinear\")\n"
     ]
    },
    {
     "data": {
      "text/plain": [
       "QuadraticDiscriminantAnalysis()"
      ]
     },
     "execution_count": 187,
     "metadata": {},
     "output_type": "execute_result"
    }
   ],
   "source": [
    "qda.fit(X_train, y_train)"
   ]
  },
  {
   "cell_type": "code",
   "execution_count": 188,
   "id": "417a3a8b",
   "metadata": {},
   "outputs": [],
   "source": [
    "pred_qda = qda.predict(T.reshape(424 * 448, 4))"
   ]
  },
  {
   "cell_type": "code",
   "execution_count": 189,
   "id": "d453d89f",
   "metadata": {},
   "outputs": [
    {
     "data": {
      "text/plain": [
       "<matplotlib.colorbar.Colorbar at 0x1556a94e648>"
      ]
     },
     "execution_count": 189,
     "metadata": {},
     "output_type": "execute_result"
    },
    {
     "data": {
      "image/png": "[encoded data removed]",
      "text/plain": [
       "<Figure size 432x288 with 2 Axes>"
      ]
     },
     "metadata": {
      "needs_background": "light"
     },
     "output_type": "display_data"
    }
   ],
   "source": [
    "plt.imshow(pred_qda.reshape(T.shape[0], T.shape[1]), cmap=plt.get_cmap('Dark2'), vmin=0, vmax=5)\n",
    "plt.colorbar()"
   ]
  },
  {
   "cell_type": "code",
   "execution_count": 29,
   "id": "749aab75",
   "metadata": {},
   "outputs": [
    {
     "data": {
      "text/plain": [
       "<matplotlib.colorbar.Colorbar at 0x1556900ff88>"
      ]
     },
     "execution_count": 29,
     "metadata": {},
     "output_type": "execute_result"
    },
    {
     "data": {
      "image/png": "[encoded data removed]",
      "text/plain": [
       "<Figure size 432x288 with 2 Axes>"
      ]
     },
     "metadata": {
      "needs_background": "light"
     },
     "output_type": "display_data"
    }
   ],
   "source": [
    "plt.imshow(map_konst_, cmap=plt.get_cmap('Dark2'))\n",
    "plt.colorbar()"
   ]
  },
  {
   "cell_type": "code",
   "execution_count": 162,
   "id": "4822dc34",
   "metadata": {},
   "outputs": [
    {
     "name": "stderr",
     "output_type": "stream",
     "text": [
      "C:\\Users\\abazarova\\miniconda3\\lib\\site-packages\\sklearn\\discriminant_analysis.py:808: UserWarning: Variables are collinear\n",
      "  warnings.warn(\"Variables are collinear\")\n",
      "C:\\Users\\abazarova\\miniconda3\\lib\\site-packages\\sklearn\\discriminant_analysis.py:808: UserWarning: Variables are collinear\n",
      "  warnings.warn(\"Variables are collinear\")\n",
      "C:\\Users\\abazarova\\miniconda3\\lib\\site-packages\\sklearn\\discriminant_analysis.py:808: UserWarning: Variables are collinear\n",
      "  warnings.warn(\"Variables are collinear\")\n",
      "C:\\Users\\abazarova\\miniconda3\\lib\\site-packages\\sklearn\\discriminant_analysis.py:808: UserWarning: Variables are collinear\n",
      "  warnings.warn(\"Variables are collinear\")\n",
      "C:\\Users\\abazarova\\miniconda3\\lib\\site-packages\\sklearn\\discriminant_analysis.py:808: UserWarning: Variables are collinear\n",
      "  warnings.warn(\"Variables are collinear\")\n",
      "C:\\Users\\abazarova\\miniconda3\\lib\\site-packages\\sklearn\\discriminant_analysis.py:808: UserWarning: Variables are collinear\n",
      "  warnings.warn(\"Variables are collinear\")\n",
      "C:\\Users\\abazarova\\miniconda3\\lib\\site-packages\\sklearn\\discriminant_analysis.py:808: UserWarning: Variables are collinear\n",
      "  warnings.warn(\"Variables are collinear\")\n",
      "C:\\Users\\abazarova\\miniconda3\\lib\\site-packages\\sklearn\\discriminant_analysis.py:808: UserWarning: Variables are collinear\n",
      "  warnings.warn(\"Variables are collinear\")\n",
      "C:\\Users\\abazarova\\miniconda3\\lib\\site-packages\\sklearn\\discriminant_analysis.py:808: UserWarning: Variables are collinear\n",
      "  warnings.warn(\"Variables are collinear\")\n",
      "C:\\Users\\abazarova\\miniconda3\\lib\\site-packages\\sklearn\\discriminant_analysis.py:808: UserWarning: Variables are collinear\n",
      "  warnings.warn(\"Variables are collinear\")\n"
     ]
    },
    {
     "data": {
      "text/plain": [
       "[                  10-fold cross-validation\n",
       "                                      Value\n",
       " Accuracy                          0.836752\n",
       " Kappa Coefficient                 0.795929,\n",
       "                   Reclassification\n",
       "                              Value\n",
       " Accuracy                  0.845774\n",
       " Kappa Coefficient         0.807213]"
      ]
     },
     "execution_count": 162,
     "metadata": {},
     "output_type": "execute_result"
    }
   ],
   "source": [
    "q = QuadraticDiscriminantAnalysis()\n",
    "mt = model_test(q, X_train, y_train, ['1', '2', '3', '4', '5'])\n",
    "mt[3]"
   ]
  },
  {
   "cell_type": "markdown",
   "id": "b07b6a31",
   "metadata": {},
   "source": [
    "Видим, что получилась какая-то дрянь. Возможно, причина в зависимости признаков. Попробуем выбирать признаки поочередно."
   ]
  },
  {
   "cell_type": "code",
   "execution_count": 30,
   "id": "04257b59",
   "metadata": {},
   "outputs": [
    {
     "name": "stderr",
     "output_type": "stream",
     "text": [
      "100%|████████████████████████████████████████████████████████████████████████████████████| 4/4 [00:06<00:00,  1.57s/it]\n"
     ]
    }
   ],
   "source": [
    "accuracy_arr_1_layer = []\n",
    "for t in tqdm(range(4)):\n",
    "    T_layer0 = T[:, :, t]\n",
    "    X = []\n",
    "    y = []\n",
    "    cnt = np.zeros(5)\n",
    "    for i in range(T_layer0.shape[0]):\n",
    "        for j in range(T_layer0.shape[1]):\n",
    "            if map_konst_[i][j] != 0 and cnt[int(map_konst_[i][j])- 1] < 9500:\n",
    "                X.append(T_layer0[i, j])\n",
    "                y.append(map_konst_[i, j])\n",
    "                cnt[int(map_konst_[i][j])- 1] += 1\n",
    "    X = np.array(X)\n",
    "    y = np.array(y)\n",
    "    X = X.reshape((-1, 1))\n",
    "    arr = [1] * 9500 + [2] * 9500 + [3] * 9500 + [4] * 9500 + [5] * 9500\n",
    "    X_train, X_test, y_train, y_test = train_test_split(X, y, test_size=0.3, random_state=0, stratify = arr)\n",
    "    q = QuadraticDiscriminantAnalysis()\n",
    "    mt = model_test(q, X_train, y_train, ['1', '2', '3', '4', '5'])\n",
    "    accuracy_arr_1_layer.append((t, mt[3][0].values[0]))"
   ]
  },
  {
   "cell_type": "code",
   "execution_count": 31,
   "id": "fe40cc9a",
   "metadata": {},
   "outputs": [
    {
     "data": {
      "text/plain": [
       "[(0, array([0.61114787])),\n",
       " (1, array([0.61182957])),\n",
       " (2, array([0.62147703])),\n",
       " (3, array([0.61612364]))]"
      ]
     },
     "execution_count": 31,
     "metadata": {},
     "output_type": "execute_result"
    }
   ],
   "source": [
    "accuracy_arr_1_layer"
   ]
  },
  {
   "cell_type": "code",
   "execution_count": 32,
   "id": "8d3766cc",
   "metadata": {},
   "outputs": [],
   "source": [
    "T_layer0 = T[:, :, 2]\n",
    "X = []\n",
    "y = []\n",
    "cnt = np.zeros(5)\n",
    "for i in range(T_layer0.shape[0]):\n",
    "    for j in range(T_layer0.shape[1]):\n",
    "        if map_konst_[i][j] != 0 and cnt[int(map_konst_[i][j])- 1] < 9500:\n",
    "            X.append(T_layer0[i, j])\n",
    "            y.append(map_konst_[i, j])\n",
    "            cnt[int(map_konst_[i][j])- 1] += 1\n",
    "X = np.array(X)\n",
    "y = np.array(y)\n",
    "X = X.reshape((-1, 1))\n",
    "arr = [1] * 9500 + [2] * 9500 + [3] * 9500 + [4] * 9500 + [5] * 9500\n",
    "X_train, X_test, y_train, y_test = train_test_split(X, y, test_size=0.3, random_state=0, stratify = arr)\n",
    "qda = QuadraticDiscriminantAnalysis()\n",
    "qda.fit(X_train, y_train)\n",
    "pred_qda = qda.predict(T_layer0.reshape(424 * 448, 1))"
   ]
  },
  {
   "cell_type": "code",
   "execution_count": 33,
   "id": "a4c274e6",
   "metadata": {},
   "outputs": [
    {
     "data": {
      "text/plain": [
       "<matplotlib.colorbar.Colorbar at 0x155698b4e08>"
      ]
     },
     "execution_count": 33,
     "metadata": {},
     "output_type": "execute_result"
    },
    {
     "data": {
      "image/png": "[encoded data removed]",
      "text/plain": [
       "<Figure size 432x288 with 2 Axes>"
      ]
     },
     "metadata": {
      "needs_background": "light"
     },
     "output_type": "display_data"
    }
   ],
   "source": [
    "plt.imshow(pred_qda.reshape(T.shape[0], T.shape[1]), cmap=plt.get_cmap('Dark2'), vmin=0, vmax=5)\n",
    "plt.colorbar()"
   ]
  },
  {
   "cell_type": "markdown",
   "id": "4ac0d2f3",
   "metadata": {},
   "source": [
    "Наибольшую accuracy дает 2 слой. Будем поочередно пробовать добавлять к нему другие слои."
   ]
  },
  {
   "cell_type": "code",
   "execution_count": 35,
   "id": "f6591078",
   "metadata": {},
   "outputs": [
    {
     "name": "stderr",
     "output_type": "stream",
     "text": [
      "100%|████████████████████████████████████████████████████████████████████████████████████| 4/4 [00:04<00:00,  1.20s/it]\n"
     ]
    }
   ],
   "source": [
    "accuracy_arr_2_layers = []\n",
    "for t in tqdm(range(4)):\n",
    "    if t != 2:\n",
    "        T_layer1 = np.stack((T_layer0, T[:, :, t]), axis = 2)\n",
    "        X = []\n",
    "        y = []\n",
    "        cnt = np.zeros(5)\n",
    "        for i in range(T_layer1.shape[0]):\n",
    "            for j in range(T_layer1.shape[1]):\n",
    "                if map_konst_[i][j] != 0 and cnt[int(map_konst_[i][j])- 1] < 9500:\n",
    "                    X.append(T_layer1[i, j])\n",
    "                    y.append(map_konst_[i, j])\n",
    "                    cnt[int(map_konst_[i][j])- 1] += 1\n",
    "        X = np.array(X)\n",
    "        y = np.array(y)\n",
    "        arr = [1] * 9500 + [2] * 9500 + [3] * 9500 + [4] * 9500 + [5] * 9500\n",
    "        X_train, X_test, y_train, y_test = train_test_split(X, y, test_size=0.3, random_state=0, stratify = arr)\n",
    "        q = QuadraticDiscriminantAnalysis()\n",
    "        mt = model_test(q, X_train, y_train, ['1', '2', '3', '4', '5'])\n",
    "        accuracy_arr_2_layers.append((t, mt[3][0].values[0]))"
   ]
  },
  {
   "cell_type": "code",
   "execution_count": 36,
   "id": "cb7f07e1",
   "metadata": {},
   "outputs": [
    {
     "data": {
      "text/plain": [
       "[(0, array([0.65436926])), (1, array([0.69110109])), (3, array([0.69584962]))]"
      ]
     },
     "execution_count": 36,
     "metadata": {},
     "output_type": "execute_result"
    }
   ],
   "source": [
    "accuracy_arr_2_layers"
   ]
  },
  {
   "cell_type": "code",
   "execution_count": 38,
   "id": "c161ec54",
   "metadata": {},
   "outputs": [],
   "source": [
    "T_layer1 = np.stack((T_layer0, T[:, :, 3]), axis = 2)\n",
    "X = []\n",
    "y = []\n",
    "cnt = np.zeros(5)\n",
    "for i in range(T_layer1.shape[0]):\n",
    "    for j in range(T_layer1.shape[1]):\n",
    "        if map_konst_[i][j] != 0 and cnt[int(map_konst_[i][j])- 1] < 9500:\n",
    "            X.append(T_layer1[i, j])\n",
    "            y.append(map_konst_[i, j])\n",
    "            cnt[int(map_konst_[i][j])- 1] += 1\n",
    "X = np.array(X)\n",
    "y = np.array(y)\n",
    "arr = [1] * 9500 + [2] * 9500 + [3] * 9500 + [4] * 9500 + [5] * 9500\n",
    "X_train, X_test, y_train, y_test = train_test_split(X, y, test_size=0.3, random_state=0, stratify = arr)\n",
    "qda = QuadraticDiscriminantAnalysis()\n",
    "qda.fit(X_train, y_train)\n",
    "pred_qda = qda.predict(T_layer1.reshape(424 * 448, 2))"
   ]
  },
  {
   "cell_type": "code",
   "execution_count": 39,
   "id": "d7158152",
   "metadata": {},
   "outputs": [
    {
     "data": {
      "text/plain": [
       "<matplotlib.colorbar.Colorbar at 0x1556a29b9c8>"
      ]
     },
     "execution_count": 39,
     "metadata": {},
     "output_type": "execute_result"
    },
    {
     "data": {
      "image/png": "[encoded data removed]",
      "text/plain": [
       "<Figure size 432x288 with 2 Axes>"
      ]
     },
     "metadata": {
      "needs_background": "light"
     },
     "output_type": "display_data"
    }
   ],
   "source": [
    "plt.imshow(pred_qda.reshape(T.shape[0], T.shape[1]), cmap=plt.get_cmap('Dark2'), vmin=0, vmax=5)\n",
    "plt.colorbar()"
   ]
  },
  {
   "cell_type": "code",
   "execution_count": 40,
   "id": "3164b082",
   "metadata": {},
   "outputs": [
    {
     "name": "stderr",
     "output_type": "stream",
     "text": [
      "100%|████████████████████████████████████████████████████████████████████████████████████| 4/4 [00:03<00:00,  1.25it/s]\n"
     ]
    }
   ],
   "source": [
    "accuracy_arr_3_layers = []\n",
    "for t in tqdm(range(4)):\n",
    "    if t != 2 and t != 3:\n",
    "        T_layer2 = np.stack((T[:, :, 2], T[:, :, 3], T[:, :, t]), axis = 2)\n",
    "        X = []\n",
    "        y = []\n",
    "        cnt = np.zeros(5)\n",
    "        for i in range(T_layer2.shape[0]):\n",
    "            for j in range(T_layer2.shape[1]):\n",
    "                if map_konst_[i][j] != 0 and cnt[int(map_konst_[i][j])- 1] < 9500:\n",
    "                    X.append(T_layer2[i, j])\n",
    "                    y.append(map_konst_[i, j])\n",
    "                    cnt[int(map_konst_[i][j])- 1] += 1\n",
    "        X = np.array(X)\n",
    "        y = np.array(y)\n",
    "        arr = [1] * 9500 + [2] * 9500 + [3] * 9500 + [4] * 9500 + [5] * 9500\n",
    "        X_train, X_test, y_train, y_test = train_test_split(X, y, test_size=0.3, random_state=0, stratify = arr)\n",
    "        q = QuadraticDiscriminantAnalysis()\n",
    "        mt = model_test(q, X_train, y_train, ['1', '2', '3', '4', '5'])\n",
    "        accuracy_arr_3_layers.append((t, mt[3][0].values[0]))"
   ]
  },
  {
   "cell_type": "code",
   "execution_count": 41,
   "id": "66f4ef74",
   "metadata": {},
   "outputs": [
    {
     "data": {
      "text/plain": [
       "[(0, array([0.86996157])), (1, array([0.86997828]))]"
      ]
     },
     "execution_count": 41,
     "metadata": {},
     "output_type": "execute_result"
    }
   ],
   "source": [
    "accuracy_arr_3_layers"
   ]
  },
  {
   "cell_type": "code",
   "execution_count": 42,
   "id": "9222ef69",
   "metadata": {},
   "outputs": [],
   "source": [
    "T_layer3 = np.stack((T[:, :, 2], T[:, :, 3], T[:, :, 1]), axis = 2)\n",
    "X = []\n",
    "y = []\n",
    "cnt = np.zeros(5)\n",
    "for i in range(T_layer3.shape[0]):\n",
    "    for j in range(T_layer3.shape[1]):\n",
    "        if map_konst_[i][j] != 0 and cnt[int(map_konst_[i][j])- 1] < 9500:\n",
    "            X.append(T_layer3[i, j])\n",
    "            y.append(map_konst_[i, j])\n",
    "            cnt[int(map_konst_[i][j])- 1] += 1\n",
    "X = np.array(X)\n",
    "y = np.array(y)\n",
    "arr = [1] * 9500 + [2] * 9500 + [3] * 9500 + [4] * 9500 + [5] * 9500\n",
    "X_train, X_test, y_train, y_test = train_test_split(X, y, test_size=0.3, random_state=0, stratify = arr)\n",
    "q = QuadraticDiscriminantAnalysis()\n",
    "q.fit(X_train, y_train)\n",
    "pred_qda = q.predict(T_layer3.reshape(424 * 448, 3))"
   ]
  },
  {
   "cell_type": "code",
   "execution_count": 43,
   "id": "46dc6369",
   "metadata": {},
   "outputs": [
    {
     "data": {
      "text/plain": [
       "<matplotlib.colorbar.Colorbar at 0x1556ad1c888>"
      ]
     },
     "execution_count": 43,
     "metadata": {},
     "output_type": "execute_result"
    },
    {
     "data": {
      "image/png": "[encoded data removed]",
      "text/plain": [
       "<Figure size 432x288 with 2 Axes>"
      ]
     },
     "metadata": {
      "needs_background": "light"
     },
     "output_type": "display_data"
    }
   ],
   "source": [
    "plt.imshow(pred_qda.reshape(T.shape[0], T.shape[1]), cmap=plt.get_cmap('Dark2'), vmin=0, vmax=5)\n",
    "plt.colorbar()"
   ]
  },
  {
   "cell_type": "code",
   "execution_count": null,
   "id": "e38eee51",
   "metadata": {},
   "outputs": [],
   "source": []
  }
 ],
 "metadata": {
  "kernelspec": {
   "display_name": "Python 3 (ipykernel)",
   "language": "python",
   "name": "python3"
  },
  "language_info": {
   "codemirror_mode": {
    "name": "ipython",
    "version": 3
   },
   "file_extension": ".py",
   "mimetype": "text/x-python",
   "name": "python",
   "nbconvert_exporter": "python",
   "pygments_lexer": "ipython3",
   "version": "3.7.10"
  }
 },
 "nbformat": 4,
 "nbformat_minor": 5
}
